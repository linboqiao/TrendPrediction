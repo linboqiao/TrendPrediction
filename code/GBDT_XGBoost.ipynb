{
 "cells": [
  {
   "cell_type": "code",
   "execution_count": 1,
   "metadata": {
    "collapsed": false
   },
   "outputs": [
    {
     "name": "stderr",
     "output_type": "stream",
     "text": [
      "/usr/local/lib/python2.7/dist-packages/sklearn/cross_validation.py:44: DeprecationWarning: This module was deprecated in version 0.18 in favor of the model_selection module into which all the refactored classes and functions are moved. Also note that the interface of the new CV iterators are different from that of this module. This module will be removed in 0.20.\n",
      "  \"This module will be removed in 0.20.\", DeprecationWarning)\n"
     ]
    }
   ],
   "source": [
    "#! /usr/bin/python\n",
    "from sklearn import preprocessing\n",
    "from sklearn.utils import shuffle\n",
    "import numpy as np\n",
    "import xgboost as xgb\n",
    "import time"
   ]
  },
  {
   "cell_type": "code",
   "execution_count": 2,
   "metadata": {
    "collapsed": false
   },
   "outputs": [
    {
     "name": "stdout",
     "output_type": "stream",
     "text": [
      "('data shape:', (296104, 93))\n",
      "('data_X shape:', (296104, 88))\n",
      "('data_Y shape:', (296104,))\n"
     ]
    }
   ],
   "source": [
    "# load data\n",
    "data = np.loadtxt('../data/stock_train_data_20170916.csv',delimiter=',',skiprows=1)\n",
    "print('data shape:', data.shape)\n",
    "\n",
    "# data preprocessing\n",
    "np.random.shuffle(data)\n",
    "data_X = data[:,1:89]\n",
    "data_Y = data[:,90]\n",
    "weight_samples = data[:,89]\n",
    "group_samples = data[:,91]\n",
    "era_samples = data[:,92]\n",
    "scaler = preprocessing.StandardScaler().fit(data_X)\n",
    "data_X = scaler.transform(data_X)\n",
    "data_cv = xgb.DMatrix(data_X, data_Y, weight = weight_samples)\n",
    "print('data_X shape:', data_X.shape)\n",
    "print('data_Y shape:', data_Y.shape)"
   ]
  },
  {
   "cell_type": "code",
   "execution_count": 3,
   "metadata": {
    "collapsed": false
   },
   "outputs": [
    {
     "name": "stdout",
     "output_type": "stream",
     "text": [
      "running cross validation\n",
      "[0]\ttrain-error:0.417643+0.0032226\ttest-error:0.423281+0.00490464\n",
      "Multiple eval metrics have been passed: 'test-error' will be used for early stopping.\n",
      "\n",
      "Will train until test-error hasn't improved in 3 rounds.\n",
      "[1]\ttrain-error:0.415854+0.00422586\ttest-error:0.421365+0.00641644\n",
      "[2]\ttrain-error:0.415787+0.00419464\ttest-error:0.421252+0.00642336\n",
      "[3]\ttrain-error:0.414837+0.00528925\ttest-error:0.420231+0.00727345\n",
      "[4]\ttrain-error:0.413141+0.00530789\ttest-error:0.418375+0.00619695\n",
      "[5]\ttrain-error:0.410271+0.00551199\ttest-error:0.415771+0.00555759\n",
      "[6]\ttrain-error:0.409962+0.00564219\ttest-error:0.41503+0.00599006\n",
      "[7]\ttrain-error:0.409179+0.00595321\ttest-error:0.414585+0.00578197\n",
      "[8]\ttrain-error:0.408106+0.00634751\ttest-error:0.413565+0.00620306\n",
      "[9]\ttrain-error:0.406519+0.0055898\ttest-error:0.412121+0.00586417\n",
      "   test-error-mean  test-error-std  train-error-mean  train-error-std\n",
      "0         0.423281        0.004905          0.417643         0.003223\n",
      "1         0.421365        0.006416          0.415854         0.004226\n",
      "2         0.421252        0.006423          0.415787         0.004195\n",
      "3         0.420231        0.007273          0.414837         0.005289\n",
      "4         0.418375        0.006197          0.413141         0.005308\n",
      "5         0.415771        0.005558          0.410271         0.005512\n",
      "6         0.415030        0.005990          0.409962         0.005642\n",
      "7         0.414585        0.005782          0.409179         0.005953\n",
      "8         0.413565        0.006203          0.408106         0.006348\n",
      "9         0.412121        0.005864          0.406519         0.005590\n",
      "('time elapse:', 90.03098487854004)\n"
     ]
    }
   ],
   "source": [
    "\n",
    "# setup parameters for xgboost\n",
    "param = {}\n",
    "# logistic regression for binary classification. Output probability.\n",
    "param['objective'] = 'binary:logistic' \n",
    "param['metrics'] = {'logloss'}\n",
    "param['eta'] = 0.01          # step size of each boosting step\n",
    "param['max_depth'] = 5       # maximum depth of the tree\n",
    "param['silent'] = 1\n",
    "param['nthread'] = 7\n",
    "param['seed'] = 0\n",
    "param['nrounds'] = 10\n",
    "#param['eval_metric'] = \"auc\"\n",
    "# https://rdrr.io/cran/xgboost/man/xgb.train.html\n",
    "# https://www.cnblogs.com/haobang008/p/5909207.html\n",
    "\n",
    "start = time.time();\n",
    "print ('running cross validation')\n",
    "# do cross validation, this will print result out as\n",
    "# [iteration]  metric_name:mean_value+std_value\n",
    "# std_value is standard deviation of the metric\n",
    "res = xgb.cv(param, data_cv,      \n",
    "             nfold=10,\n",
    "             callbacks=[xgb.callback.print_evaluation(show_stdv=True),\n",
    "                        xgb.callback.early_stop(3)])\n",
    "end = time.time();\n",
    "print (res)\n",
    "print('time elapse:', end- start);"
   ]
  },
  {
   "cell_type": "code",
   "execution_count": 17,
   "metadata": {
    "collapsed": false
   },
   "outputs": [
    {
     "name": "stdout",
     "output_type": "stream",
     "text": [
      "('data_X shape:', (296104, 88))\n",
      "('data_Y shape:', (296104,))\n",
      "('train_X', (236883, 88))\n",
      "('test_X', (59221, 88))\n",
      "[0]\ttrain-error:0.418727\ttest-error:0.421406\n",
      "[1]\ttrain-error:0.418727\ttest-error:0.421406\n",
      "[2]\ttrain-error:0.418871\ttest-error:0.421525\n",
      "[3]\ttrain-error:0.409831\ttest-error:0.414867\n",
      "[4]\ttrain-error:0.409212\ttest-error:0.414363\n",
      "[5]\ttrain-error:0.404671\ttest-error:0.409087\n",
      "[6]\ttrain-error:0.404415\ttest-error:0.409939\n",
      "[7]\ttrain-error:0.404237\ttest-error:0.409295\n",
      "[8]\ttrain-error:0.403631\ttest-error:0.408824\n",
      "[9]\ttrain-error:0.40352\ttest-error:0.40762\n",
      "('time elapse train:', 6.09224009513855)\n",
      "('time elapse predict:', 0.0006649494171142578)\n",
      "[ 0.49826735  0.50759786  0.50471961 ...,  0.49826735  0.49826735\n",
      "  0.50290203]\n",
      "('error:', 0.52660373853869402)\n"
     ]
    }
   ],
   "source": [
    "# model training\n",
    "\n",
    "# setup parameters for xgboost\n",
    "param = {}\n",
    "# logistic regression for binary classification. Output probability.\n",
    "param['objective'] = 'binary:logistic' \n",
    "param['metrics'] = {'logloss'}\n",
    "param['eta'] = 0.01          # step size of each boosting step\n",
    "param['max_depth'] = 5       # maximum depth of the tree\n",
    "param['silent'] = 1\n",
    "param['nthread'] = 7\n",
    "param['seed'] = 0\n",
    "param['nrounds'] = 10\n",
    "\n",
    "# data preprocessing\n",
    "np.random.shuffle(data)\n",
    "data_X = data[:,1:89]\n",
    "data_Y = data[:,90]\n",
    "weight_samples = data[:,89]\n",
    "group_samples = data[:,91]\n",
    "era_samples = data[:,92]\n",
    "scaler = preprocessing.StandardScaler().fit(data_X)\n",
    "data_X = scaler.transform(data_X)\n",
    "data_cv = xgb.DMatrix(data_X, data_Y, weight = weight_samples)\n",
    "print('data_X shape:', data_X.shape)\n",
    "print('data_Y shape:', data_Y.shape)\n",
    "\n",
    "# more work needed for traing set selection...\n",
    "test_X = data_X[int(data_X.shape[0] * 0.8):]\n",
    "test_Y = data_Y[int(data_X.shape[0] * 0.8):]\n",
    "weight_test = weight_samples[int(data_X.shape[0] * 0.8):]\n",
    "train_X = data_X[0:int(data_X.shape[0] * 0.8)]\n",
    "train_Y = data_Y[0:int(data_X.shape[0] * 0.8)]\n",
    "weight_train = weight_samples[0:int(data_X.shape[0] * 0.8)]\n",
    "print(\"train_X\",train_X.shape)\n",
    "print(\"test_X\",test_X.shape)\n",
    "\n",
    "xg_train = xgb.DMatrix( train_X, label=train_Y, weight = weight_train)\n",
    "xg_test = xgb.DMatrix(test_X, label=test_Y, weight = weight_test)\n",
    "watchlist = [ (xg_train,'train'), (xg_test, 'test') ]\n",
    "\n",
    "num_round = 10\n",
    "start = time.time();\n",
    "bst = xgb.train(param, xg_train, num_round, watchlist);\n",
    "end = time.time();\n",
    "print('time elapse train:', end- start);\n",
    "# Note: this convention has been changed since xgboost-unity\n",
    "# get prediction, this is in 1D array, need reshape to (ndata, nclass)\n",
    "start = time.time();\n",
    "y_pred = bst.predict( xg_test )\n",
    "end = time.time();\n",
    "print('time elapse predict:', end- start);\n",
    "print(y_pred)\n",
    "print('error:', np.sum(test_Y == (y_pred > 0)).astype(float) / test_Y.shape[0])"
   ]
  },
  {
   "cell_type": "code",
   "execution_count": 46,
   "metadata": {
    "collapsed": false
   },
   "outputs": [
    {
     "name": "stdout",
     "output_type": "stream",
     "text": [
      "('time elapse predict:', 0.02595996856689453)\n"
     ]
    }
   ],
   "source": [
    "data_to_Predict = np.loadtxt('../data/stock_test_data_20170916.csv',delimiter=',',skiprows=1)\n",
    "ids = data_to_Predict[:,0]\n",
    "test_X = data_to_Predict[:,1:-1]\n",
    "test_X = xgb.DMatrix(test_X)\n",
    "\n",
    "start = time.time();\n",
    "yprob = bst.predict( test_X )\n",
    "end = time.time();\n",
    "print('time elapse predict:', end- start);\n",
    "\n",
    "data_pred = np.concatenate((data_to_Predict[:,0].reshape(yprob.shape[0],-1), yprob.reshape(yprob.shape[0],-1)), axis=1)\n",
    "\n",
    "f = open('./data_pred.csv', 'w')\n",
    "f.write('id,proba\\n')\n",
    "for i in range(data_pred.shape[0]):\n",
    "    s = '%d,%.5f\\n'%(data_pred[i,0], data_pred[i,1])\n",
    "    f.write(s)\n",
    "f.close()"
   ]
  },
  {
   "cell_type": "code",
   "execution_count": null,
   "metadata": {
    "collapsed": true
   },
   "outputs": [],
   "source": []
  }
 ],
 "metadata": {
  "kernelspec": {
   "display_name": "Python 2",
   "language": "python",
   "name": "python2"
  },
  "language_info": {
   "codemirror_mode": {
    "name": "ipython",
    "version": 2
   },
   "file_extension": ".py",
   "mimetype": "text/x-python",
   "name": "python",
   "nbconvert_exporter": "python",
   "pygments_lexer": "ipython2",
   "version": "2.7.12"
  }
 },
 "nbformat": 4,
 "nbformat_minor": 1
}
