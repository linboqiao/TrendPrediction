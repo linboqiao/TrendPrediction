{
 "cells": [
  {
   "cell_type": "code",
   "execution_count": 1,
   "metadata": {
    "collapsed": false
   },
   "outputs": [
    {
     "name": "stderr",
     "output_type": "stream",
     "text": [
      "/usr/local/lib/python2.7/dist-packages/sklearn/cross_validation.py:44: DeprecationWarning: This module was deprecated in version 0.18 in favor of the model_selection module into which all the refactored classes and functions are moved. Also note that the interface of the new CV iterators are different from that of this module. This module will be removed in 0.20.\n",
      "  \"This module will be removed in 0.20.\", DeprecationWarning)\n"
     ]
    }
   ],
   "source": [
    "#! /usr/bin/python\n",
    "from sklearn import preprocessing\n",
    "from sklearn.utils import shuffle\n",
    "import numpy as np\n",
    "import xgboost as xgb\n",
    "import time"
   ]
  },
  {
   "cell_type": "code",
   "execution_count": 2,
   "metadata": {
    "collapsed": false
   },
   "outputs": [
    {
     "name": "stdout",
     "output_type": "stream",
     "text": [
      "('data shape:', (296104, 93))\n",
      "('data_X shape:', (296104, 88))\n",
      "('data_Y shape:', (296104,))\n"
     ]
    }
   ],
   "source": [
    "# load data\n",
    "data = np.loadtxt('../data/stock_train_data_20170916.csv',delimiter=',',skiprows=1)\n",
    "print('data shape:', data.shape)\n",
    "\n",
    "# data preprocessing\n",
    "np.random.shuffle(data)\n",
    "data_X = data[:,1:89]\n",
    "data_Y = data[:,90]\n",
    "weight_samples = data[:,89]\n",
    "group_samples = data[:,91]\n",
    "era_samples = data[:,92]\n",
    "scaler = preprocessing.StandardScaler().fit(data_X)\n",
    "data_X = scaler.transform(data_X)\n",
    "data_cv = xgb.DMatrix(data_X, data_Y, weight = weight_samples)\n",
    "print('data_X shape:', data_X.shape)\n",
    "print('data_Y shape:', data_Y.shape)"
   ]
  },
  {
   "cell_type": "code",
   "execution_count": 13,
   "metadata": {
    "collapsed": false
   },
   "outputs": [
    {
     "name": "stdout",
     "output_type": "stream",
     "text": [
      "running cross validation\n",
      "[0]\ttrain-auc:0.698968+0.00140923\ttest-auc:0.642011+0.00446906\n",
      "Multiple eval metrics have been passed: 'test-auc' will be used for early stopping.\n",
      "\n",
      "Will train until test-auc hasn't improved in 3 rounds.\n",
      "[1]\ttrain-auc:0.725536+0.00146908\ttest-auc:0.660836+0.0044523\n",
      "[2]\ttrain-auc:0.742484+0.00177473\ttest-auc:0.672159+0.00376296\n",
      "[3]\ttrain-auc:0.753752+0.00209469\ttest-auc:0.67932+0.0043276\n",
      "[4]\ttrain-auc:0.764688+0.00194107\ttest-auc:0.686178+0.00371929\n",
      "[5]\ttrain-auc:0.773822+0.00245907\ttest-auc:0.691127+0.00432757\n",
      "[6]\ttrain-auc:0.781692+0.00245859\ttest-auc:0.695888+0.00401362\n",
      "[7]\ttrain-auc:0.787792+0.00176858\ttest-auc:0.69915+0.00374629\n",
      "[8]\ttrain-auc:0.793665+0.00123664\ttest-auc:0.702292+0.00488445\n",
      "[9]\ttrain-auc:0.799251+0.00133687\ttest-auc:0.70526+0.00445594\n",
      "   test-auc-mean  test-auc-std  train-auc-mean  train-auc-std\n",
      "0       0.642011      0.004469        0.698968       0.001409\n",
      "1       0.660836      0.004452        0.725536       0.001469\n",
      "2       0.672159      0.003763        0.742484       0.001775\n",
      "3       0.679320      0.004328        0.753752       0.002095\n",
      "4       0.686178      0.003719        0.764688       0.001941\n",
      "5       0.691127      0.004328        0.773822       0.002459\n",
      "6       0.695888      0.004014        0.781692       0.002459\n",
      "7       0.699150      0.003746        0.787792       0.001769\n",
      "8       0.702292      0.004884        0.793665       0.001237\n",
      "9       0.705260      0.004456        0.799251       0.001337\n",
      "('time elapse:', 234.07218503952026)\n"
     ]
    }
   ],
   "source": [
    "\n",
    "# setup parameters for xgboost\n",
    "param = {}\n",
    "# logistic regression for binary classification. Output probability.\n",
    "param['objective'] = 'binary:logistic' \n",
    "param['metrics'] = {'logloss'}\n",
    "param['eta'] = 0.1          # step size of each boosting step\n",
    "param['max_depth'] = 10       # maximum depth of the tree\n",
    "param['silent'] = 1\n",
    "param['nthread'] = 7\n",
    "param['seed'] = 0\n",
    "param['nrounds'] = 2\n",
    "param['lambda'] = 10\n",
    "param['alpha'] = 5\n",
    "#param['eval_metric'] = \"auc\"\n",
    "# https://rdrr.io/cran/xgboost/man/xgb.train.html\n",
    "# https://www.cnblogs.com/haobang008/p/5909207.html\n",
    "\n",
    "start = time.time();\n",
    "print ('running cross validation')\n",
    "# do cross validation, this will print result out as\n",
    "# [iteration]  metric_name:mean_value+std_value\n",
    "# std_value is standard deviation of the metric\n",
    "res = xgb.cv(param, data_cv,      \n",
    "             nfold=10, metrics='auc',\n",
    "             callbacks=[xgb.callback.print_evaluation(show_stdv=True),\n",
    "                        xgb.callback.early_stop(3)])\n",
    "end = time.time();\n",
    "print (res)\n",
    "print('time elapse:', end- start);"
   ]
  },
  {
   "cell_type": "code",
   "execution_count": null,
   "metadata": {
    "collapsed": true
   },
   "outputs": [],
   "source": []
  },
  {
   "cell_type": "code",
   "execution_count": 14,
   "metadata": {
    "collapsed": false
   },
   "outputs": [
    {
     "name": "stdout",
     "output_type": "stream",
     "text": [
      "('data_X shape:', (296104, 88))\n",
      "('data_Y shape:', (296104,))\n",
      "('train_X', (266493, 88))\n",
      "('test_X', (29611, 88))\n",
      "[0]\ttrain-error:0.352481\ttest-error:0.388728\n",
      "[1]\ttrain-error:0.333243\ttest-error:0.378545\n",
      "[2]\ttrain-error:0.324733\ttest-error:0.372168\n",
      "[3]\ttrain-error:0.315491\ttest-error:0.364853\n",
      "[4]\ttrain-error:0.306442\ttest-error:0.361842\n",
      "[5]\ttrain-error:0.301292\ttest-error:0.358779\n",
      "[6]\ttrain-error:0.295547\ttest-error:0.355481\n",
      "[7]\ttrain-error:0.289804\ttest-error:0.353532\n",
      "[8]\ttrain-error:0.286206\ttest-error:0.350234\n",
      "[9]\ttrain-error:0.282777\ttest-error:0.34853\n",
      "('time elapse train:', 22.648571968078613)\n",
      "('time elapse predict:', 0.0008800029754638672)\n",
      "[ 0.6044513   0.38634267  0.67602718 ...,  0.64311343  0.62655663  0.500521  ]\n",
      "('error:', 0.52659484650974298)\n"
     ]
    }
   ],
   "source": [
    "# model training\n",
    "\n",
    "per_train = 0.9\n",
    "# data preprocessing\n",
    "#np.random.shuffle(data)\n",
    "# rebuild the data with era (time)\n",
    "\n",
    "data_X = data[:,1:89]\n",
    "data_Y = data[:,90]\n",
    "weight_samples = data[:,89]\n",
    "group_samples = data[:,91].reshape(-1,1)\n",
    "era_samples = data[:,92]\n",
    "\n",
    "#data_X = np.append(data_X, group_samples, axis= 1)\n",
    "scaler = preprocessing.StandardScaler().fit(data_X)\n",
    "data_X = scaler.transform(data_X)\n",
    "data_cv = xgb.DMatrix(data_X, data_Y, weight = weight_samples)\n",
    "print('data_X shape:', data_X.shape)\n",
    "print('data_Y shape:', data_Y.shape)\n",
    "\n",
    "# more work needed for traing set selection...\n",
    "test_X = data_X[int(data_X.shape[0] * per_train):]\n",
    "test_Y = data_Y[int(data_X.shape[0] * per_train):]\n",
    "weight_test = weight_samples[int(data_X.shape[0] * per_train):]\n",
    "train_X = data_X[0:int(data_X.shape[0] * per_train)]\n",
    "train_Y = data_Y[0:int(data_X.shape[0] * per_train)]\n",
    "weight_train = weight_samples[0:int(data_X.shape[0] * per_train)]\n",
    "print(\"train_X\",train_X.shape)\n",
    "print(\"test_X\",test_X.shape)\n",
    "\n",
    "xg_train = xgb.DMatrix( train_X, label=train_Y, weight = weight_train)\n",
    "xg_test = xgb.DMatrix(test_X, label=test_Y, weight = weight_test)\n",
    "watchlist = [ (xg_train,'train'), (xg_test, 'test') ]\n",
    "\n",
    "num_round = 10\n",
    "start = time.time();\n",
    "bst = xgb.train(param, xg_train, num_round, watchlist);\n",
    "end = time.time();\n",
    "print('time elapse train:', end- start);\n",
    "# Note: this convention has been changed since xgboost-unity\n",
    "# get prediction, this is in 1D array, need reshape to (ndata, nclass)\n",
    "start = time.time();\n",
    "y_pred = bst.predict( xg_test )\n",
    "end = time.time();\n",
    "print('time elapse predict:', end- start);\n",
    "print(y_pred)\n",
    "print('error:', np.sum(test_Y == (y_pred > 0)).astype(float) / test_Y.shape[0])\n"
   ]
  },
  {
   "cell_type": "code",
   "execution_count": null,
   "metadata": {
    "collapsed": true
   },
   "outputs": [],
   "source": []
  },
  {
   "cell_type": "code",
   "execution_count": 15,
   "metadata": {
    "collapsed": false
   },
   "outputs": [
    {
     "name": "stdout",
     "output_type": "stream",
     "text": [
      "('time elapse predict:', 0.04147982597351074)\n"
     ]
    }
   ],
   "source": [
    "data_to_Predict = np.loadtxt('../data/stock_test_data_20170916.csv',delimiter=',',skiprows=1)\n",
    "ids = data_to_Predict[:,0]\n",
    "test_X = data_to_Predict[:,1:-1]\n",
    "test_X = xgb.DMatrix(test_X)\n",
    "\n",
    "start = time.time();\n",
    "yprob = bst.predict( test_X )\n",
    "end = time.time();\n",
    "print('time elapse predict:', end- start);\n",
    "\n",
    "data_pred = np.concatenate((data_to_Predict[:,0].reshape(yprob.shape[0],-1), yprob.reshape(yprob.shape[0],-1)), axis=1)\n",
    "\n",
    "f = open('./data_pred.csv', 'w')\n",
    "f.write('id,proba\\n')\n",
    "for i in range(data_pred.shape[0]):\n",
    "    s = '%d,%.5f\\n'%(data_pred[i,0], data_pred[i,1])\n",
    "    f.write(s)\n",
    "f.close()"
   ]
  },
  {
   "cell_type": "code",
   "execution_count": null,
   "metadata": {
    "collapsed": true
   },
   "outputs": [],
   "source": []
  }
 ],
 "metadata": {
  "kernelspec": {
   "display_name": "Python 2",
   "language": "python",
   "name": "python2"
  },
  "language_info": {
   "codemirror_mode": {
    "name": "ipython",
    "version": 2
   },
   "file_extension": ".py",
   "mimetype": "text/x-python",
   "name": "python",
   "nbconvert_exporter": "python",
   "pygments_lexer": "ipython2",
   "version": "2.7.12"
  }
 },
 "nbformat": 4,
 "nbformat_minor": 1
}
