{
 "cells": [
  {
   "cell_type": "code",
   "execution_count": 1,
   "metadata": {
    "collapsed": false
   },
   "outputs": [
    {
     "name": "stderr",
     "output_type": "stream",
     "text": [
      "/usr/local/lib/python2.7/dist-packages/sklearn/cross_validation.py:44: DeprecationWarning: This module was deprecated in version 0.18 in favor of the model_selection module into which all the refactored classes and functions are moved. Also note that the interface of the new CV iterators are different from that of this module. This module will be removed in 0.20.\n",
      "  \"This module will be removed in 0.20.\", DeprecationWarning)\n"
     ]
    }
   ],
   "source": [
    "#! /usr/bin/python\n",
    "from sklearn import preprocessing\n",
    "from sklearn.utils import shuffle\n",
    "import numpy as np\n",
    "import xgboost as xgb\n",
    "import time"
   ]
  },
  {
   "cell_type": "code",
   "execution_count": 2,
   "metadata": {
    "collapsed": false
   },
   "outputs": [
    {
     "name": "stdout",
     "output_type": "stream",
     "text": [
      "('data shape:', (296104, 93))\n",
      "('data_X shape:', (296104, 88))\n",
      "('data_Y shape:', (296104,))\n"
     ]
    }
   ],
   "source": [
    "# load data\n",
    "data = np.loadtxt('../data/stock_train_data_20170923.csv',delimiter=',',skiprows=1)\n",
    "print('data shape:', data.shape)\n",
    "\n",
    "# data preprocessing\n",
    "np.random.shuffle(data)\n",
    "data_X = data[:,1:89]\n",
    "data_Y = data[:,90]\n",
    "weight_samples = data[:,89]\n",
    "group_samples = data[:,91]\n",
    "era_samples = data[:,92]\n",
    "scaler = preprocessing.StandardScaler().fit(data_X)\n",
    "data_X = scaler.transform(data_X)\n",
    "data_cv = xgb.DMatrix(data_X, data_Y, weight = weight_samples)\n",
    "print('data_X shape:', data_X.shape)\n",
    "print('data_Y shape:', data_Y.shape)"
   ]
  },
  {
   "cell_type": "code",
   "execution_count": 3,
   "metadata": {
    "collapsed": false
   },
   "outputs": [
    {
     "name": "stdout",
     "output_type": "stream",
     "text": [
      "running cross validation\n",
      "[0]\ttrain-auc:0.959516+0.00112376\ttest-auc:0.63857+0.00543886\n",
      "Multiple eval metrics have been passed: 'test-auc' will be used for early stopping.\n",
      "\n",
      "Will train until test-auc hasn't improved in 3 rounds.\n",
      "[1]\ttrain-auc:0.978562+0.00182015\ttest-auc:0.661235+0.00507074\n",
      "[2]\ttrain-auc:0.986188+0.00110891\ttest-auc:0.676576+0.00420345\n",
      "[3]\ttrain-auc:0.989892+0.000862911\ttest-auc:0.687171+0.00403417\n",
      "[4]\ttrain-auc:0.992222+0.000621927\ttest-auc:0.695638+0.00502428\n",
      "[5]\ttrain-auc:0.99374+0.000440746\ttest-auc:0.700944+0.00511168\n",
      "[6]\ttrain-auc:0.994918+0.000361786\ttest-auc:0.706333+0.00494038\n",
      "[7]\ttrain-auc:0.995782+0.0002484\ttest-auc:0.711167+0.00473141\n",
      "[8]\ttrain-auc:0.996445+0.000207139\ttest-auc:0.715027+0.00471442\n",
      "[9]\ttrain-auc:0.996965+0.000168862\ttest-auc:0.718522+0.00441242\n",
      "   test-auc-mean  test-auc-std  train-auc-mean  train-auc-std\n",
      "0       0.638570      0.005439        0.959516       0.001124\n",
      "1       0.661235      0.005071        0.978562       0.001820\n",
      "2       0.676576      0.004203        0.986188       0.001109\n",
      "3       0.687171      0.004034        0.989892       0.000863\n",
      "4       0.695638      0.005024        0.992222       0.000622\n",
      "5       0.700944      0.005112        0.993740       0.000441\n",
      "6       0.706333      0.004940        0.994918       0.000362\n",
      "7       0.711167      0.004731        0.995782       0.000248\n",
      "8       0.715027      0.004714        0.996445       0.000207\n",
      "9       0.718522      0.004412        0.996965       0.000169\n",
      "('time elapse:', 725.3092110157013)\n"
     ]
    }
   ],
   "source": [
    "\n",
    "# setup parameters for xgboost\n",
    "param = {}\n",
    "# logistic regression for binary classification. Output probability.\n",
    "param['objective'] = 'binary:logistic' \n",
    "param['metrics'] = {'logloss'}\n",
    "param['eta'] = 0.1          # step size of each boosting step\n",
    "param['max_depth'] = 30       # maximum depth of the tree\n",
    "param['silent'] = 1\n",
    "param['nthread'] = 7\n",
    "param['seed'] = 0\n",
    "param['nrounds'] = 2\n",
    "param['lambda'] = 10\n",
    "param['alpha'] = 5\n",
    "#param['eval_metric'] = \"auc\"\n",
    "# https://rdrr.io/cran/xgboost/man/xgb.train.html\n",
    "# https://www.cnblogs.com/haobang008/p/5909207.html\n",
    "\n",
    "start = time.time();\n",
    "print ('running cross validation')\n",
    "# do cross validation, this will print result out as\n",
    "# [iteration]  metric_name:mean_value+std_value\n",
    "# std_value is standard deviation of the metric\n",
    "res = xgb.cv(param, data_cv,      \n",
    "             nfold=10, metrics='auc',\n",
    "             callbacks=[xgb.callback.print_evaluation(show_stdv=True),\n",
    "                        xgb.callback.early_stop(3)])\n",
    "end = time.time();\n",
    "print (res)\n",
    "print('time elapse:', end- start);"
   ]
  },
  {
   "cell_type": "code",
   "execution_count": null,
   "metadata": {
    "collapsed": true
   },
   "outputs": [],
   "source": []
  },
  {
   "cell_type": "code",
   "execution_count": 4,
   "metadata": {
    "collapsed": false
   },
   "outputs": [
    {
     "name": "stdout",
     "output_type": "stream",
     "text": [
      "('data_X shape:', (296104, 88))\n",
      "('data_Y shape:', (296104,))\n",
      "('train_X', (266493, 88))\n",
      "('test_X', (29611, 88))\n",
      "[0]\ttrain-error:0.072963\ttest-error:0.415483\n",
      "[1]\ttrain-error:0.051789\ttest-error:0.378795\n",
      "[2]\ttrain-error:0.041339\ttest-error:0.370312\n",
      "[3]\ttrain-error:0.035421\ttest-error:0.364416\n",
      "[4]\ttrain-error:0.031281\ttest-error:0.356286\n",
      "[5]\ttrain-error:0.028635\ttest-error:0.355504\n",
      "[6]\ttrain-error:0.025786\ttest-error:0.351767\n",
      "[7]\ttrain-error:0.023528\ttest-error:0.346358\n",
      "[8]\ttrain-error:0.021502\ttest-error:0.342586\n",
      "[9]\ttrain-error:0.019711\ttest-error:0.340713\n",
      "('time elapse train:', 73.52350211143494)\n",
      "('time elapse predict:', 0.0007841587066650391)\n",
      "[ 0.51396251  0.32289192  0.46447942 ...,  0.62798262  0.58350259\n",
      "  0.41744906]\n",
      "('error:', 0.53125527675525985)\n"
     ]
    }
   ],
   "source": [
    "# model training\n",
    "\n",
    "per_train = 0.9\n",
    "# data preprocessing\n",
    "#np.random.shuffle(data)\n",
    "# rebuild the data with era (time)\n",
    "\n",
    "data_X = data[:,1:89]\n",
    "data_Y = data[:,90]\n",
    "weight_samples = data[:,89]\n",
    "group_samples = data[:,91].reshape(-1,1)\n",
    "era_samples = data[:,92]\n",
    "\n",
    "#data_X = np.append(data_X, group_samples, axis= 1)\n",
    "scaler = preprocessing.StandardScaler().fit(data_X)\n",
    "data_X = scaler.transform(data_X)\n",
    "data_cv = xgb.DMatrix(data_X, data_Y, weight = weight_samples)\n",
    "print('data_X shape:', data_X.shape)\n",
    "print('data_Y shape:', data_Y.shape)\n",
    "\n",
    "# more work needed for traing set selection...\n",
    "test_X = data_X[int(data_X.shape[0] * per_train):]\n",
    "test_Y = data_Y[int(data_X.shape[0] * per_train):]\n",
    "weight_test = weight_samples[int(data_X.shape[0] * per_train):]\n",
    "train_X = data_X[0:int(data_X.shape[0] * per_train)]\n",
    "train_Y = data_Y[0:int(data_X.shape[0] * per_train)]\n",
    "weight_train = weight_samples[0:int(data_X.shape[0] * per_train)]\n",
    "print(\"train_X\",train_X.shape)\n",
    "print(\"test_X\",test_X.shape)\n",
    "\n",
    "xg_train = xgb.DMatrix( train_X, label=train_Y, weight = weight_train)\n",
    "xg_test = xgb.DMatrix(test_X, label=test_Y, weight = weight_test)\n",
    "watchlist = [ (xg_train,'train'), (xg_test, 'test') ]\n",
    "\n",
    "num_round = 10\n",
    "start = time.time();\n",
    "bst = xgb.train(param, xg_train, num_round, watchlist);\n",
    "end = time.time();\n",
    "print('time elapse train:', end- start);\n",
    "# Note: this convention has been changed since xgboost-unity\n",
    "# get prediction, this is in 1D array, need reshape to (ndata, nclass)\n",
    "start = time.time();\n",
    "y_pred = bst.predict( xg_test )\n",
    "end = time.time();\n",
    "print('time elapse predict:', end- start);\n",
    "print(y_pred)\n",
    "print('error:', np.sum(test_Y == (y_pred > 0)).astype(float) / test_Y.shape[0])\n"
   ]
  },
  {
   "cell_type": "code",
   "execution_count": null,
   "metadata": {
    "collapsed": true
   },
   "outputs": [],
   "source": []
  },
  {
   "cell_type": "code",
   "execution_count": 5,
   "metadata": {
    "collapsed": false
   },
   "outputs": [
    {
     "name": "stdout",
     "output_type": "stream",
     "text": [
      "('time elapse predict:', 0.3291018009185791)\n"
     ]
    }
   ],
   "source": [
    "data_to_Predict = np.loadtxt('../data/stock_test_data_20170923.csv',delimiter=',',skiprows=1)\n",
    "ids = data_to_Predict[:,0]\n",
    "test_X = data_to_Predict[:,1:-1]\n",
    "test_X = xgb.DMatrix(test_X)\n",
    "\n",
    "start = time.time();\n",
    "yprob = bst.predict( test_X )\n",
    "end = time.time();\n",
    "print('time elapse predict:', end- start);\n",
    "\n",
    "data_pred = np.concatenate((data_to_Predict[:,0].reshape(yprob.shape[0],-1), yprob.reshape(yprob.shape[0],-1)), axis=1)\n",
    "\n",
    "f = open('./data_pred.csv', 'w')\n",
    "f.write('id,proba\\n')\n",
    "for i in range(data_pred.shape[0]):\n",
    "    s = '%d,%.5f\\n'%(data_pred[i,0], data_pred[i,1])\n",
    "    f.write(s)\n",
    "f.close()"
   ]
  },
  {
   "cell_type": "code",
   "execution_count": null,
   "metadata": {
    "collapsed": true
   },
   "outputs": [],
   "source": []
  }
 ],
 "metadata": {
  "kernelspec": {
   "display_name": "Python 2",
   "language": "python",
   "name": "python2"
  },
  "language_info": {
   "codemirror_mode": {
    "name": "ipython",
    "version": 2
   },
   "file_extension": ".py",
   "mimetype": "text/x-python",
   "name": "python",
   "nbconvert_exporter": "python",
   "pygments_lexer": "ipython2",
   "version": "2.7.12"
  }
 },
 "nbformat": 4,
 "nbformat_minor": 1
}
