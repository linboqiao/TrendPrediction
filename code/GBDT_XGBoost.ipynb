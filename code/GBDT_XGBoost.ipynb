{
 "cells": [
  {
   "cell_type": "code",
   "execution_count": 1,
   "metadata": {
    "collapsed": false
   },
   "outputs": [
    {
     "name": "stderr",
     "output_type": "stream",
     "text": [
      "/usr/local/lib/python2.7/dist-packages/sklearn/cross_validation.py:44: DeprecationWarning: This module was deprecated in version 0.18 in favor of the model_selection module into which all the refactored classes and functions are moved. Also note that the interface of the new CV iterators are different from that of this module. This module will be removed in 0.20.\n",
      "  \"This module will be removed in 0.20.\", DeprecationWarning)\n"
     ]
    }
   ],
   "source": [
    "#! /usr/bin/python\n",
    "from sklearn import preprocessing\n",
    "from sklearn.utils import shuffle\n",
    "import numpy as np\n",
    "import xgboost as xgb\n",
    "import time"
   ]
  },
  {
   "cell_type": "code",
   "execution_count": 2,
   "metadata": {
    "collapsed": false
   },
   "outputs": [
    {
     "name": "stdout",
     "output_type": "stream",
     "text": [
      "('data shape:', (296104, 93))\n",
      "('data_X shape:', (296104, 88))\n",
      "('data_Y shape:', (296104,))\n"
     ]
    }
   ],
   "source": [
    "# load data\n",
    "data = np.loadtxt('../data/stock_train_data_20170916.csv',delimiter=',',skiprows=1)\n",
    "print('data shape:', data.shape)\n",
    "\n",
    "# data preprocessing\n",
    "np.random.shuffle(data)\n",
    "data_X = data[:,1:89]\n",
    "data_Y = data[:,90]\n",
    "weight_samples = data[:,89]\n",
    "group_samples = data[:,91]\n",
    "era_samples = data[:,92]\n",
    "scaler = preprocessing.StandardScaler().fit(data_X)\n",
    "data_X = scaler.transform(data_X)\n",
    "data_cv = xgb.DMatrix(data_X, data_Y, weight = weight_samples)\n",
    "print('data_X shape:', data_X.shape)\n",
    "print('data_Y shape:', data_Y.shape)"
   ]
  },
  {
   "cell_type": "code",
   "execution_count": 16,
   "metadata": {
    "collapsed": false
   },
   "outputs": [
    {
     "name": "stdout",
     "output_type": "stream",
     "text": [
      "running cross validation\n",
      "[0]\ttrain-auc:0.917539+0.00168738\ttest-auc:0.643311+0.00476265\n",
      "Multiple eval metrics have been passed: 'test-auc' will be used for early stopping.\n",
      "\n",
      "Will train until test-auc hasn't improved in 3 rounds.\n",
      "[1]\ttrain-auc:0.951819+0.00196348\ttest-auc:0.667206+0.00500107\n",
      "[2]\ttrain-auc:0.965787+0.00210188\ttest-auc:0.680718+0.00497753\n",
      "[3]\ttrain-auc:0.974316+0.00172772\ttest-auc:0.691821+0.00467773\n",
      "[4]\ttrain-auc:0.979844+0.00131032\ttest-auc:0.69994+0.00393581\n",
      "[5]\ttrain-auc:0.983674+0.000972692\ttest-auc:0.707466+0.00421789\n",
      "[6]\ttrain-auc:0.986334+0.000922353\ttest-auc:0.71258+0.00405943\n",
      "[7]\ttrain-auc:0.988373+0.000691147\ttest-auc:0.717093+0.00389274\n",
      "[8]\ttrain-auc:0.98997+0.000487198\ttest-auc:0.720427+0.00347402\n",
      "[9]\ttrain-auc:0.991265+0.000403681\ttest-auc:0.723527+0.00367704\n",
      "   test-auc-mean  test-auc-std  train-auc-mean  train-auc-std\n",
      "0       0.643311      0.004763        0.917539       0.001687\n",
      "1       0.667206      0.005001        0.951819       0.001963\n",
      "2       0.680718      0.004978        0.965787       0.002102\n",
      "3       0.691821      0.004678        0.974316       0.001728\n",
      "4       0.699940      0.003936        0.979844       0.001310\n",
      "5       0.707466      0.004218        0.983674       0.000973\n",
      "6       0.712580      0.004059        0.986334       0.000922\n",
      "7       0.717093      0.003893        0.988373       0.000691\n",
      "8       0.720427      0.003474        0.989970       0.000487\n",
      "9       0.723527      0.003677        0.991265       0.000404\n",
      "('time elapse:', 506.5925450325012)\n"
     ]
    }
   ],
   "source": [
    "\n",
    "# setup parameters for xgboost\n",
    "param = {}\n",
    "# logistic regression for binary classification. Output probability.\n",
    "param['objective'] = 'binary:logistic' \n",
    "param['metrics'] = {'logloss'}\n",
    "param['eta'] = 0.1          # step size of each boosting step\n",
    "param['max_depth'] = 20       # maximum depth of the tree\n",
    "param['silent'] = 1\n",
    "param['nthread'] = 7\n",
    "param['seed'] = 0\n",
    "param['nrounds'] = 2\n",
    "param['lambda'] = 10\n",
    "param['alpha'] = 5\n",
    "#param['eval_metric'] = \"auc\"\n",
    "# https://rdrr.io/cran/xgboost/man/xgb.train.html\n",
    "# https://www.cnblogs.com/haobang008/p/5909207.html\n",
    "\n",
    "start = time.time();\n",
    "print ('running cross validation')\n",
    "# do cross validation, this will print result out as\n",
    "# [iteration]  metric_name:mean_value+std_value\n",
    "# std_value is standard deviation of the metric\n",
    "res = xgb.cv(param, data_cv,      \n",
    "             nfold=10, metrics='auc',\n",
    "             callbacks=[xgb.callback.print_evaluation(show_stdv=True),\n",
    "                        xgb.callback.early_stop(3)])\n",
    "end = time.time();\n",
    "print (res)\n",
    "print('time elapse:', end- start);"
   ]
  },
  {
   "cell_type": "code",
   "execution_count": null,
   "metadata": {
    "collapsed": true
   },
   "outputs": [],
   "source": []
  },
  {
   "cell_type": "code",
   "execution_count": 14,
   "metadata": {
    "collapsed": false
   },
   "outputs": [
    {
     "name": "stdout",
     "output_type": "stream",
     "text": [
      "('data_X shape:', (296104, 88))\n",
      "('data_Y shape:', (296104,))\n",
      "('train_X', (266493, 88))\n",
      "('test_X', (29611, 88))\n",
      "[0]\ttrain-error:0.352481\ttest-error:0.388728\n",
      "[1]\ttrain-error:0.333243\ttest-error:0.378545\n",
      "[2]\ttrain-error:0.324733\ttest-error:0.372168\n",
      "[3]\ttrain-error:0.315491\ttest-error:0.364853\n",
      "[4]\ttrain-error:0.306442\ttest-error:0.361842\n",
      "[5]\ttrain-error:0.301292\ttest-error:0.358779\n",
      "[6]\ttrain-error:0.295547\ttest-error:0.355481\n",
      "[7]\ttrain-error:0.289804\ttest-error:0.353532\n",
      "[8]\ttrain-error:0.286206\ttest-error:0.350234\n",
      "[9]\ttrain-error:0.282777\ttest-error:0.34853\n",
      "('time elapse train:', 22.648571968078613)\n",
      "('time elapse predict:', 0.0008800029754638672)\n",
      "[ 0.6044513   0.38634267  0.67602718 ...,  0.64311343  0.62655663  0.500521  ]\n",
      "('error:', 0.52659484650974298)\n"
     ]
    }
   ],
   "source": [
    "# model training\n",
    "\n",
    "per_train = 0.9\n",
    "# data preprocessing\n",
    "#np.random.shuffle(data)\n",
    "# rebuild the data with era (time)\n",
    "\n",
    "data_X = data[:,1:89]\n",
    "data_Y = data[:,90]\n",
    "weight_samples = data[:,89]\n",
    "group_samples = data[:,91].reshape(-1,1)\n",
    "era_samples = data[:,92]\n",
    "\n",
    "#data_X = np.append(data_X, group_samples, axis= 1)\n",
    "scaler = preprocessing.StandardScaler().fit(data_X)\n",
    "data_X = scaler.transform(data_X)\n",
    "data_cv = xgb.DMatrix(data_X, data_Y, weight = weight_samples)\n",
    "print('data_X shape:', data_X.shape)\n",
    "print('data_Y shape:', data_Y.shape)\n",
    "\n",
    "# more work needed for traing set selection...\n",
    "test_X = data_X[int(data_X.shape[0] * per_train):]\n",
    "test_Y = data_Y[int(data_X.shape[0] * per_train):]\n",
    "weight_test = weight_samples[int(data_X.shape[0] * per_train):]\n",
    "train_X = data_X[0:int(data_X.shape[0] * per_train)]\n",
    "train_Y = data_Y[0:int(data_X.shape[0] * per_train)]\n",
    "weight_train = weight_samples[0:int(data_X.shape[0] * per_train)]\n",
    "print(\"train_X\",train_X.shape)\n",
    "print(\"test_X\",test_X.shape)\n",
    "\n",
    "xg_train = xgb.DMatrix( train_X, label=train_Y, weight = weight_train)\n",
    "xg_test = xgb.DMatrix(test_X, label=test_Y, weight = weight_test)\n",
    "watchlist = [ (xg_train,'train'), (xg_test, 'test') ]\n",
    "\n",
    "num_round = 10\n",
    "start = time.time();\n",
    "bst = xgb.train(param, xg_train, num_round, watchlist);\n",
    "end = time.time();\n",
    "print('time elapse train:', end- start);\n",
    "# Note: this convention has been changed since xgboost-unity\n",
    "# get prediction, this is in 1D array, need reshape to (ndata, nclass)\n",
    "start = time.time();\n",
    "y_pred = bst.predict( xg_test )\n",
    "end = time.time();\n",
    "print('time elapse predict:', end- start);\n",
    "print(y_pred)\n",
    "print('error:', np.sum(test_Y == (y_pred > 0)).astype(float) / test_Y.shape[0])\n"
   ]
  },
  {
   "cell_type": "code",
   "execution_count": null,
   "metadata": {
    "collapsed": true
   },
   "outputs": [],
   "source": []
  },
  {
   "cell_type": "code",
   "execution_count": 15,
   "metadata": {
    "collapsed": false
   },
   "outputs": [
    {
     "name": "stdout",
     "output_type": "stream",
     "text": [
      "('time elapse predict:', 0.04147982597351074)\n"
     ]
    }
   ],
   "source": [
    "data_to_Predict = np.loadtxt('../data/stock_test_data_20170916.csv',delimiter=',',skiprows=1)\n",
    "ids = data_to_Predict[:,0]\n",
    "test_X = data_to_Predict[:,1:-1]\n",
    "test_X = xgb.DMatrix(test_X)\n",
    "\n",
    "start = time.time();\n",
    "yprob = bst.predict( test_X )\n",
    "end = time.time();\n",
    "print('time elapse predict:', end- start);\n",
    "\n",
    "data_pred = np.concatenate((data_to_Predict[:,0].reshape(yprob.shape[0],-1), yprob.reshape(yprob.shape[0],-1)), axis=1)\n",
    "\n",
    "f = open('./data_pred.csv', 'w')\n",
    "f.write('id,proba\\n')\n",
    "for i in range(data_pred.shape[0]):\n",
    "    s = '%d,%.5f\\n'%(data_pred[i,0], data_pred[i,1])\n",
    "    f.write(s)\n",
    "f.close()"
   ]
  },
  {
   "cell_type": "code",
   "execution_count": null,
   "metadata": {
    "collapsed": true
   },
   "outputs": [],
   "source": []
  }
 ],
 "metadata": {
  "kernelspec": {
   "display_name": "Python 2",
   "language": "python",
   "name": "python2"
  },
  "language_info": {
   "codemirror_mode": {
    "name": "ipython",
    "version": 2
   },
   "file_extension": ".py",
   "mimetype": "text/x-python",
   "name": "python",
   "nbconvert_exporter": "python",
   "pygments_lexer": "ipython2",
   "version": "2.7.12"
  }
 },
 "nbformat": 4,
 "nbformat_minor": 1
}
